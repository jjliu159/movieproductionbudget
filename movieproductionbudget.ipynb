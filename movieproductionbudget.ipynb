{
  "nbformat": 4,
  "nbformat_minor": 0,
  "metadata": {
    "colab": {
      "name": "mmds.ipynb",
      "provenance": [],
      "collapsed_sections": [],
      "toc_visible": true
    },
    "kernelspec": {
      "name": "python3",
      "display_name": "Python 3"
    }
  },
  "cells": [
    {
      "cell_type": "code",
      "metadata": {
        "id": "l04mTAi6huDq"
      },
      "source": [
        "import pandas as pd"
      ],
      "execution_count": null,
      "outputs": []
    },
    {
      "cell_type": "code",
      "metadata": {
        "id": "oa47siEeoBS7"
      },
      "source": [
        "df = pd.read_csv(\"movies_metadata.csv\")\r\n",
        "sample_df = pd.read_csv(\"movies_metadata.csv\")"
      ],
      "execution_count": null,
      "outputs": []
    },
    {
      "cell_type": "markdown",
      "metadata": {
        "id": "b8dIJkvJoU2N"
      },
      "source": [
        "Different Columns:\r\n",
        "\r\n",
        "adult\t\r\n",
        "belongs_to_collection\t\r\n",
        "budget\t\r\n",
        "genres\t\r\n",
        "homepage\t\r\n",
        "id\t\r\n",
        "imdb_id\t\r\n",
        "original_language\t\r\n",
        "original_title\t\r\n",
        "overview\t\r\n",
        "popularity\t\r\n",
        "poster_path\t\r\n",
        "production_companies\t\r\n",
        "production_countries\t\r\n",
        "release_date\t\r\n",
        "revenue\t\r\n",
        "runtime\t\r\n",
        "spoken_languages\t\r\n",
        "status\t\r\n",
        "tagline\t\r\n",
        "title\t\r\n",
        "video\t\r\n",
        "vote_average\t\r\n",
        "vote_count\r\n"
      ]
    },
    {
      "cell_type": "code",
      "metadata": {
        "id": "I_spgnpW9AhK"
      },
      "source": [
        ""
      ],
      "execution_count": null,
      "outputs": []
    },
    {
      "cell_type": "markdown",
      "metadata": {
        "id": "7me3Mz6p6QVA"
      },
      "source": [
        "# **Initial Cleanup**"
      ]
    },
    {
      "cell_type": "markdown",
      "metadata": {
        "id": "eeBU7tqn84vq"
      },
      "source": [
        "Replaced every nan value with a string form of a list for production_countries to be processed by literal_eval later."
      ]
    },
    {
      "cell_type": "markdown",
      "metadata": {
        "id": "wv0WwYxC-7OT"
      },
      "source": [
        "Initially genre is in the format of [{'id': 10194, 'name': 'Toy Story Collection'...}]\r\n",
        "\r\n",
        "Needed to clean up, in a list format to be used later. \r\n",
        "\r\n",
        "The same can be said for production countries."
      ]
    },
    {
      "cell_type": "code",
      "metadata": {
        "id": "8CBKRGrF6fu_"
      },
      "source": [
        "df['production_countries'] = df['production_countries'].fillna('[]')\r\n",
        "df['spoken_languages'] = df['spoken_languages'].fillna('[]')"
      ],
      "execution_count": null,
      "outputs": []
    },
    {
      "cell_type": "code",
      "metadata": {
        "id": "0fI__6ZC6P-J"
      },
      "source": [
        "from ast import literal_eval\r\n",
        "\r\n",
        "features = ['production_countries','genres','spoken_languages']\r\n",
        "for feature in features:\r\n",
        "    df[feature] = df[feature].apply(literal_eval)"
      ],
      "execution_count": null,
      "outputs": []
    },
    {
      "cell_type": "code",
      "metadata": {
        "id": "8wOZ5vyL8TNk"
      },
      "source": [
        "def return_list(series): \r\n",
        "  if type(series) != list:\r\n",
        "    return []\r\n",
        "  names = [i['name'] for i in series]\r\n",
        "  return names\r\n",
        "\r\n",
        "def return_string(series):\r\n",
        "  if type(series) != str:\r\n",
        "    return \"\"\r\n",
        "  names = [i['name'] for i in series]\r\n",
        "  return \"\".join(names)"
      ],
      "execution_count": null,
      "outputs": []
    },
    {
      "cell_type": "markdown",
      "metadata": {
        "id": "1nWlsQUeopEe"
      },
      "source": [
        "**Sort by Genre**"
      ]
    },
    {
      "cell_type": "code",
      "metadata": {
        "id": "6vw5wS571Pdq"
      },
      "source": [
        "df['genres'] = df['genres'].apply(return_list)"
      ],
      "execution_count": null,
      "outputs": []
    },
    {
      "cell_type": "code",
      "metadata": {
        "colab": {
          "base_uri": "https://localhost:8080/"
        },
        "id": "SuqDLgZooobU",
        "outputId": "8dc05ab4-62a4-404e-e8a8-4c2833694644"
      },
      "source": [
        "genre = df[\"genres\"].value_counts()\r\n",
        "print(genre)\r\n",
        "#df.head(3)"
      ],
      "execution_count": null,
      "outputs": [
        {
          "output_type": "stream",
          "text": [
            "[Drama]                                 5000\n",
            "[Comedy]                                3621\n",
            "[Documentary]                           2723\n",
            "[]                                      2442\n",
            "[Drama, Romance]                        1301\n",
            "                                        ... \n",
            "[Science Fiction, Horror, Adventure]       1\n",
            "[Thriller, Comedy, Crime, Adventure]       1\n",
            "[Mystery, Thriller, Adventure]             1\n",
            "[TV Movie, Drama, Romance, Family]         1\n",
            "[History, Action, Adventure, War]          1\n",
            "Name: genres, Length: 4066, dtype: int64\n"
          ],
          "name": "stdout"
        }
      ]
    },
    {
      "cell_type": "markdown",
      "metadata": {
        "id": "DYpbIhbAp4F_"
      },
      "source": [
        "**Sort by Origin**"
      ]
    },
    {
      "cell_type": "code",
      "metadata": {
        "id": "8KGr5Jyw5cme"
      },
      "source": [
        "df['production_countries'] = df['production_countries'].apply(return_list)"
      ],
      "execution_count": null,
      "outputs": []
    },
    {
      "cell_type": "code",
      "metadata": {
        "colab": {
          "base_uri": "https://localhost:8080/",
          "height": 434
        },
        "id": "eQAyFs4e8f3a",
        "outputId": "9be4afa4-da87-4dba-bda1-020d5cc1d687"
      },
      "source": [
        "df.head(3)"
      ],
      "execution_count": null,
      "outputs": [
        {
          "output_type": "execute_result",
          "data": {
            "text/html": [
              "<div>\n",
              "<style scoped>\n",
              "    .dataframe tbody tr th:only-of-type {\n",
              "        vertical-align: middle;\n",
              "    }\n",
              "\n",
              "    .dataframe tbody tr th {\n",
              "        vertical-align: top;\n",
              "    }\n",
              "\n",
              "    .dataframe thead th {\n",
              "        text-align: right;\n",
              "    }\n",
              "</style>\n",
              "<table border=\"1\" class=\"dataframe\">\n",
              "  <thead>\n",
              "    <tr style=\"text-align: right;\">\n",
              "      <th></th>\n",
              "      <th>adult</th>\n",
              "      <th>belongs_to_collection</th>\n",
              "      <th>budget</th>\n",
              "      <th>genres</th>\n",
              "      <th>homepage</th>\n",
              "      <th>id</th>\n",
              "      <th>imdb_id</th>\n",
              "      <th>original_language</th>\n",
              "      <th>original_title</th>\n",
              "      <th>overview</th>\n",
              "      <th>popularity</th>\n",
              "      <th>poster_path</th>\n",
              "      <th>production_companies</th>\n",
              "      <th>production_countries</th>\n",
              "      <th>release_date</th>\n",
              "      <th>revenue</th>\n",
              "      <th>runtime</th>\n",
              "      <th>spoken_languages</th>\n",
              "      <th>status</th>\n",
              "      <th>tagline</th>\n",
              "      <th>title</th>\n",
              "      <th>video</th>\n",
              "      <th>vote_average</th>\n",
              "      <th>vote_count</th>\n",
              "    </tr>\n",
              "  </thead>\n",
              "  <tbody>\n",
              "    <tr>\n",
              "      <th>0</th>\n",
              "      <td>False</td>\n",
              "      <td>{'id': 10194, 'name': 'Toy Story Collection', ...</td>\n",
              "      <td>30000000</td>\n",
              "      <td>[Animation, Comedy, Family]</td>\n",
              "      <td>http://toystory.disney.com/toy-story</td>\n",
              "      <td>862</td>\n",
              "      <td>tt0114709</td>\n",
              "      <td>en</td>\n",
              "      <td>Toy Story</td>\n",
              "      <td>Led by Woody, Andy's toys live happily in his ...</td>\n",
              "      <td>21.946943</td>\n",
              "      <td>/rhIRbceoE9lR4veEXuwCC2wARtG.jpg</td>\n",
              "      <td>[{'name': 'Pixar Animation Studios', 'id': 3}]</td>\n",
              "      <td>[United States of America]</td>\n",
              "      <td>10/30/1995</td>\n",
              "      <td>373554033</td>\n",
              "      <td>81.0</td>\n",
              "      <td>[{'iso_639_1': 'en', 'name': 'English'}]</td>\n",
              "      <td>Released</td>\n",
              "      <td>NaN</td>\n",
              "      <td>Toy Story</td>\n",
              "      <td>False</td>\n",
              "      <td>7.7</td>\n",
              "      <td>5415</td>\n",
              "    </tr>\n",
              "    <tr>\n",
              "      <th>1</th>\n",
              "      <td>False</td>\n",
              "      <td>NaN</td>\n",
              "      <td>65000000</td>\n",
              "      <td>[Adventure, Fantasy, Family]</td>\n",
              "      <td>NaN</td>\n",
              "      <td>8844</td>\n",
              "      <td>tt0113497</td>\n",
              "      <td>en</td>\n",
              "      <td>Jumanji</td>\n",
              "      <td>When siblings Judy and Peter discover an encha...</td>\n",
              "      <td>17.015539</td>\n",
              "      <td>/vzmL6fP7aPKNKPRTFnZmiUfciyV.jpg</td>\n",
              "      <td>[{'name': 'TriStar Pictures', 'id': 559}, {'na...</td>\n",
              "      <td>[United States of America]</td>\n",
              "      <td>12/15/1995</td>\n",
              "      <td>262797249</td>\n",
              "      <td>104.0</td>\n",
              "      <td>[{'iso_639_1': 'en', 'name': 'English'}, {'iso...</td>\n",
              "      <td>Released</td>\n",
              "      <td>Roll the dice and unleash the excitement!</td>\n",
              "      <td>Jumanji</td>\n",
              "      <td>False</td>\n",
              "      <td>6.9</td>\n",
              "      <td>2413</td>\n",
              "    </tr>\n",
              "    <tr>\n",
              "      <th>2</th>\n",
              "      <td>False</td>\n",
              "      <td>{'id': 119050, 'name': 'Grumpy Old Men Collect...</td>\n",
              "      <td>0</td>\n",
              "      <td>[Romance, Comedy]</td>\n",
              "      <td>NaN</td>\n",
              "      <td>15602</td>\n",
              "      <td>tt0113228</td>\n",
              "      <td>en</td>\n",
              "      <td>Grumpier Old Men</td>\n",
              "      <td>A family wedding reignites the ancient feud be...</td>\n",
              "      <td>11.712900</td>\n",
              "      <td>/6ksm1sjKMFLbO7UY2i6G1ju9SML.jpg</td>\n",
              "      <td>[{'name': 'Warner Bros.', 'id': 6194}, {'name'...</td>\n",
              "      <td>[United States of America]</td>\n",
              "      <td>12/22/1995</td>\n",
              "      <td>0</td>\n",
              "      <td>101.0</td>\n",
              "      <td>[{'iso_639_1': 'en', 'name': 'English'}]</td>\n",
              "      <td>Released</td>\n",
              "      <td>Still Yelling. Still Fighting. Still Ready for...</td>\n",
              "      <td>Grumpier Old Men</td>\n",
              "      <td>False</td>\n",
              "      <td>6.5</td>\n",
              "      <td>92</td>\n",
              "    </tr>\n",
              "  </tbody>\n",
              "</table>\n",
              "</div>"
            ],
            "text/plain": [
              "   adult  ... vote_count\n",
              "0  False  ...       5415\n",
              "1  False  ...       2413\n",
              "2  False  ...         92\n",
              "\n",
              "[3 rows x 24 columns]"
            ]
          },
          "metadata": {
            "tags": []
          },
          "execution_count": 11
        }
      ]
    },
    {
      "cell_type": "code",
      "metadata": {
        "colab": {
          "base_uri": "https://localhost:8080/"
        },
        "id": "ISJBMufFp6SP",
        "outputId": "e57a5afa-ab37-413f-9bbd-d6417cdae39a"
      },
      "source": [
        "origin = df['production_countries'].value_counts()\r\n",
        "print(origin)"
      ],
      "execution_count": null,
      "outputs": [
        {
          "output_type": "stream",
          "text": [
            "[United States of America]                            17851\n",
            "[]                                                     6282\n",
            "[United Kingdom]                                       2238\n",
            "[France]                                               1654\n",
            "[Japan]                                                1356\n",
            "                                                      ...  \n",
            "[Germany, Poland, United Kingdom]                         1\n",
            "[Indonesia, Germany, United States of America]            1\n",
            "[Bosnia and Herzegovina, France, Italy, Slovenia]         1\n",
            "[Ireland, Germany]                                        1\n",
            "[Bosnia and Herzegovina, Serbia, Croatia, Hungary]        1\n",
            "Name: production_countries, Length: 2391, dtype: int64\n"
          ],
          "name": "stdout"
        }
      ]
    },
    {
      "cell_type": "markdown",
      "metadata": {
        "id": "GqlMx_p9AC_P"
      },
      "source": [
        "**Sort by language**"
      ]
    },
    {
      "cell_type": "code",
      "metadata": {
        "id": "OkaAWGA4_dYB"
      },
      "source": [
        "df['spoken_languages'] = df['spoken_languages'].apply(return_list)"
      ],
      "execution_count": null,
      "outputs": []
    },
    {
      "cell_type": "code",
      "metadata": {
        "colab": {
          "base_uri": "https://localhost:8080/",
          "height": 434
        },
        "id": "CPNQUZo7_i3k",
        "outputId": "6ef9beaa-4259-46c6-eef4-bc0f1a226486"
      },
      "source": [
        "df.head(3)"
      ],
      "execution_count": null,
      "outputs": [
        {
          "output_type": "execute_result",
          "data": {
            "text/html": [
              "<div>\n",
              "<style scoped>\n",
              "    .dataframe tbody tr th:only-of-type {\n",
              "        vertical-align: middle;\n",
              "    }\n",
              "\n",
              "    .dataframe tbody tr th {\n",
              "        vertical-align: top;\n",
              "    }\n",
              "\n",
              "    .dataframe thead th {\n",
              "        text-align: right;\n",
              "    }\n",
              "</style>\n",
              "<table border=\"1\" class=\"dataframe\">\n",
              "  <thead>\n",
              "    <tr style=\"text-align: right;\">\n",
              "      <th></th>\n",
              "      <th>adult</th>\n",
              "      <th>belongs_to_collection</th>\n",
              "      <th>budget</th>\n",
              "      <th>genres</th>\n",
              "      <th>homepage</th>\n",
              "      <th>id</th>\n",
              "      <th>imdb_id</th>\n",
              "      <th>original_language</th>\n",
              "      <th>original_title</th>\n",
              "      <th>overview</th>\n",
              "      <th>popularity</th>\n",
              "      <th>poster_path</th>\n",
              "      <th>production_companies</th>\n",
              "      <th>production_countries</th>\n",
              "      <th>release_date</th>\n",
              "      <th>revenue</th>\n",
              "      <th>runtime</th>\n",
              "      <th>spoken_languages</th>\n",
              "      <th>status</th>\n",
              "      <th>tagline</th>\n",
              "      <th>title</th>\n",
              "      <th>video</th>\n",
              "      <th>vote_average</th>\n",
              "      <th>vote_count</th>\n",
              "    </tr>\n",
              "  </thead>\n",
              "  <tbody>\n",
              "    <tr>\n",
              "      <th>0</th>\n",
              "      <td>False</td>\n",
              "      <td>{'id': 10194, 'name': 'Toy Story Collection', ...</td>\n",
              "      <td>30000000</td>\n",
              "      <td>[Animation, Comedy, Family]</td>\n",
              "      <td>http://toystory.disney.com/toy-story</td>\n",
              "      <td>862</td>\n",
              "      <td>tt0114709</td>\n",
              "      <td>en</td>\n",
              "      <td>Toy Story</td>\n",
              "      <td>Led by Woody, Andy's toys live happily in his ...</td>\n",
              "      <td>21.946943</td>\n",
              "      <td>/rhIRbceoE9lR4veEXuwCC2wARtG.jpg</td>\n",
              "      <td>[{'name': 'Pixar Animation Studios', 'id': 3}]</td>\n",
              "      <td>[United States of America]</td>\n",
              "      <td>10/30/1995</td>\n",
              "      <td>373554033</td>\n",
              "      <td>81.0</td>\n",
              "      <td>[{'iso_639_1': 'en', 'name': 'English'}]</td>\n",
              "      <td>Released</td>\n",
              "      <td>NaN</td>\n",
              "      <td>Toy Story</td>\n",
              "      <td>False</td>\n",
              "      <td>7.7</td>\n",
              "      <td>5415</td>\n",
              "    </tr>\n",
              "    <tr>\n",
              "      <th>1</th>\n",
              "      <td>False</td>\n",
              "      <td>NaN</td>\n",
              "      <td>65000000</td>\n",
              "      <td>[Adventure, Fantasy, Family]</td>\n",
              "      <td>NaN</td>\n",
              "      <td>8844</td>\n",
              "      <td>tt0113497</td>\n",
              "      <td>en</td>\n",
              "      <td>Jumanji</td>\n",
              "      <td>When siblings Judy and Peter discover an encha...</td>\n",
              "      <td>17.015539</td>\n",
              "      <td>/vzmL6fP7aPKNKPRTFnZmiUfciyV.jpg</td>\n",
              "      <td>[{'name': 'TriStar Pictures', 'id': 559}, {'na...</td>\n",
              "      <td>[United States of America]</td>\n",
              "      <td>12/15/1995</td>\n",
              "      <td>262797249</td>\n",
              "      <td>104.0</td>\n",
              "      <td>[{'iso_639_1': 'en', 'name': 'English'}, {'iso...</td>\n",
              "      <td>Released</td>\n",
              "      <td>Roll the dice and unleash the excitement!</td>\n",
              "      <td>Jumanji</td>\n",
              "      <td>False</td>\n",
              "      <td>6.9</td>\n",
              "      <td>2413</td>\n",
              "    </tr>\n",
              "    <tr>\n",
              "      <th>2</th>\n",
              "      <td>False</td>\n",
              "      <td>{'id': 119050, 'name': 'Grumpy Old Men Collect...</td>\n",
              "      <td>0</td>\n",
              "      <td>[Romance, Comedy]</td>\n",
              "      <td>NaN</td>\n",
              "      <td>15602</td>\n",
              "      <td>tt0113228</td>\n",
              "      <td>en</td>\n",
              "      <td>Grumpier Old Men</td>\n",
              "      <td>A family wedding reignites the ancient feud be...</td>\n",
              "      <td>11.712900</td>\n",
              "      <td>/6ksm1sjKMFLbO7UY2i6G1ju9SML.jpg</td>\n",
              "      <td>[{'name': 'Warner Bros.', 'id': 6194}, {'name'...</td>\n",
              "      <td>[United States of America]</td>\n",
              "      <td>12/22/1995</td>\n",
              "      <td>0</td>\n",
              "      <td>101.0</td>\n",
              "      <td>[{'iso_639_1': 'en', 'name': 'English'}]</td>\n",
              "      <td>Released</td>\n",
              "      <td>Still Yelling. Still Fighting. Still Ready for...</td>\n",
              "      <td>Grumpier Old Men</td>\n",
              "      <td>False</td>\n",
              "      <td>6.5</td>\n",
              "      <td>92</td>\n",
              "    </tr>\n",
              "  </tbody>\n",
              "</table>\n",
              "</div>"
            ],
            "text/plain": [
              "   adult  ... vote_count\n",
              "0  False  ...       5415\n",
              "1  False  ...       2413\n",
              "2  False  ...         92\n",
              "\n",
              "[3 rows x 24 columns]"
            ]
          },
          "metadata": {
            "tags": []
          },
          "execution_count": 35
        }
      ]
    },
    {
      "cell_type": "code",
      "metadata": {
        "colab": {
          "base_uri": "https://localhost:8080/"
        },
        "id": "mvzGV9Ch_6-Z",
        "outputId": "51512b0f-525c-44a2-c2e0-2264b7264baf"
      },
      "source": [
        "languages = df['spoken_languages'].value_counts()\r\n",
        "print(languages)"
      ],
      "execution_count": null,
      "outputs": [
        {
          "output_type": "stream",
          "text": [
            "[English]                                     22397\n",
            "[]                                             3829\n",
            "[Français]                                     1853\n",
            "[日本語]                                          1290\n",
            "[Italiano]                                     1218\n",
            "                                              ...  \n",
            "[suomi, 日本語, English]                             1\n",
            "[普通话, English, Pусский]                           1\n",
            "[فارسی, Español]                                  1\n",
            "[English, 日本語, Français, العربية, Español]        1\n",
            "[English, Srpski, Türkçe]                         1\n",
            "Name: spoken_languages, Length: 1843, dtype: int64\n"
          ],
          "name": "stdout"
        }
      ]
    },
    {
      "cell_type": "markdown",
      "metadata": {
        "id": "vevygyxNasy5"
      },
      "source": [
        "# **Classifying the data**"
      ]
    },
    {
      "cell_type": "markdown",
      "metadata": {
        "id": "lhAMhGr_kl0w"
      },
      "source": [
        "Our goal right now is to plot the revenue as the y-coordinate, the year it was created in as the x-coordinate, and each dot will be colored based on the country."
      ]
    },
    {
      "cell_type": "code",
      "metadata": {
        "id": "gsfQdCvkasaS"
      },
      "source": [
        "import matplotlib.pyplot as plt"
      ],
      "execution_count": null,
      "outputs": []
    },
    {
      "cell_type": "code",
      "metadata": {
        "id": "n8PePYc7m_YX"
      },
      "source": [
        "df['revenue'] = df['revenue'].fillna('0')\r\n",
        "df['revenue'] = df['revenue'].astype(float) \r\n",
        "df['budget'] = df['budget'].astype(float) \r\n",
        "df['budget'] = df['budget'].fillna('0')"
      ],
      "execution_count": null,
      "outputs": []
    },
    {
      "cell_type": "code",
      "metadata": {
        "id": "Tt8_oA9lojl9"
      },
      "source": [
        "df['result'] = df['revenue']/df['budget']"
      ],
      "execution_count": null,
      "outputs": []
    },
    {
      "cell_type": "code",
      "metadata": {
        "colab": {
          "base_uri": "https://localhost:8080/"
        },
        "id": "_w5UCdEotayN",
        "outputId": "15e9c8ff-934a-4c79-b97b-f7adbc104e1f"
      },
      "source": [
        "print(df['result'].value_counts())"
      ],
      "execution_count": null,
      "outputs": [
        {
          "output_type": "stream",
          "text": [
            "0.000000    3509\n",
            "inf         2027\n",
            "1.000000      20\n",
            "2.000000      12\n",
            "4.000000      11\n",
            "            ... \n",
            "2.076607       1\n",
            "1.431323       1\n",
            "0.009587       1\n",
            "0.550348       1\n",
            "2.454926       1\n",
            "Name: result, Length: 5233, dtype: int64\n"
          ],
          "name": "stdout"
        }
      ]
    },
    {
      "cell_type": "code",
      "metadata": {
        "colab": {
          "base_uri": "https://localhost:8080/",
          "height": 307
        },
        "id": "SpEuCAzSmWlz",
        "outputId": "ebd7a6c4-a88a-4eec-c521-bbdf79e5bb62"
      },
      "source": [
        "df.plot(kind = 'scatter', y = 'revenue', x= 'budget')\r\n"
      ],
      "execution_count": null,
      "outputs": [
        {
          "output_type": "execute_result",
          "data": {
            "text/plain": [
              "<matplotlib.axes._subplots.AxesSubplot at 0x7f14dff28be0>"
            ]
          },
          "metadata": {
            "tags": []
          },
          "execution_count": 43
        },
        {
          "output_type": "display_data",
          "data": {
            "image/png": "[encoded data removed]",
            "text/plain": [
              "<Figure size 432x288 with 1 Axes>"
            ]
          },
          "metadata": {
            "tags": [],
            "needs_background": "light"
          }
        }
      ]
    },
    {
      "cell_type": "code",
      "metadata": {
        "id": "MIFiCUu-o52x",
        "colab": {
          "base_uri": "https://localhost:8080/",
          "height": 34
        },
        "outputId": "f1d737e9-961a-415f-ae14-80c40e2f700e"
      },
      "source": [
        "plt.gcf().set_size_inches((20, 20))    \r\n",
        "plt.show()"
      ],
      "execution_count": null,
      "outputs": [
        {
          "output_type": "display_data",
          "data": {
            "text/plain": [
              "<Figure size 1440x1440 with 0 Axes>"
            ]
          },
          "metadata": {
            "tags": []
          }
        }
      ]
    },
    {
      "cell_type": "markdown",
      "metadata": {
        "id": "teS_Go1Z8Btx"
      },
      "source": [
        "**Creating Linear Regression Models Based on Genre**"
      ]
    },
    {
      "cell_type": "code",
      "metadata": {
        "colab": {
          "base_uri": "https://localhost:8080/"
        },
        "id": "dDoQQ4fJNI51",
        "outputId": "ff43cac3-093f-4ddd-8c76-3b6971885622"
      },
      "source": [
        "import itertools\r\n",
        "import matplotlib.pyplot as plt\r\n",
        "import numpy as np\r\n",
        "all_genres = set(itertools.chain.from_iterable(df['genres']))\r\n",
        "print(len(all_genres))"
      ],
      "execution_count": null,
      "outputs": [
        {
          "output_type": "stream",
          "text": [
            "20\n"
          ],
          "name": "stdout"
        }
      ]
    },
    {
      "cell_type": "code",
      "metadata": {
        "id": "9fqFJf1a7p57"
      },
      "source": [
        "import numpy as np\r\n",
        "from sklearn.linear_model import LinearRegression"
      ],
      "execution_count": null,
      "outputs": []
    },
    {
      "cell_type": "code",
      "metadata": {
        "colab": {
          "base_uri": "https://localhost:8080/"
        },
        "id": "Z7MNZZs6-S8u",
        "outputId": "b2caeae1-99a8-4444-a6b9-0659c605e9e6"
      },
      "source": [
        "print(type(df['genres'][0]))\r\n",
        "print(df['genres'][0])"
      ],
      "execution_count": null,
      "outputs": [
        {
          "output_type": "stream",
          "text": [
            "<class 'list'>\n",
            "['Animation', 'Comedy', 'Family']\n"
          ],
          "name": "stdout"
        }
      ]
    },
    {
      "cell_type": "code",
      "metadata": {
        "colab": {
          "base_uri": "https://localhost:8080/",
          "height": 991
        },
        "id": "7M0uuOIeF6jV",
        "outputId": "08428aad-f86d-4dc4-f640-0e83ac079810"
      },
      "source": [
        "index = 0\r\n",
        "\r\n",
        "plt.figure(figsize=(10,10))\r\n",
        "colors = plt.cm.Spectral(np.linspace(0,1,20))\r\n",
        "for genre in all_genres:\r\n",
        "  all_action = df[df['genres'].apply(lambda x : genre in x)]\r\n",
        "  x = np.array(all_action['budget']).reshape(-1,1)\r\n",
        "  y = np.array(all_action['revenue'])\r\n",
        "  train_x, test_x = x[:len(all_action)//2], x[len(all_action)//2:]\r\n",
        "  train_y, test_y = y[:len(all_action)//2], y[len(all_action)//2:]\r\n",
        "  model = LinearRegression()\r\n",
        "  model.fit(train_x,train_y)\r\n",
        "  pred = model.predict(test_x)\r\n",
        "  plt.scatter(x,y, c = colors[index])\r\n",
        "  plt.plot(test_x, pred,color = colors[index],linewidth = 3, label = genre)\r\n",
        "  index+=1\r\n",
        "\r\n",
        "plt.xlabel(\"Budget\")\r\n",
        "plt.ylabel(\"Revenue\")\r\n",
        "plt.legend(loc = \"upper right\")\r\n",
        "plt.show()"
      ],
      "execution_count": null,
      "outputs": [
        {
          "output_type": "stream",
          "text": [
            "*c* argument looks like a single numeric RGB or RGBA sequence, which should be avoided as value-mapping will have precedence in case its length matches with *x* & *y*.  Please use the *color* keyword-argument or provide a 2-D array with a single row if you intend to specify the same RGB or RGBA value for all points.\n",
            "*c* argument looks like a single numeric RGB or RGBA sequence, which should be avoided as value-mapping will have precedence in case its length matches with *x* & *y*.  Please use the *color* keyword-argument or provide a 2-D array with a single row if you intend to specify the same RGB or RGBA value for all points.\n",
            "*c* argument looks like a single numeric RGB or RGBA sequence, which should be avoided as value-mapping will have precedence in case its length matches with *x* & *y*.  Please use the *color* keyword-argument or provide a 2-D array with a single row if you intend to specify the same RGB or RGBA value for all points.\n",
            "*c* argument looks like a single numeric RGB or RGBA sequence, which should be avoided as value-mapping will have precedence in case its length matches with *x* & *y*.  Please use the *color* keyword-argument or provide a 2-D array with a single row if you intend to specify the same RGB or RGBA value for all points.\n",
            "*c* argument looks like a single numeric RGB or RGBA sequence, which should be avoided as value-mapping will have precedence in case its length matches with *x* & *y*.  Please use the *color* keyword-argument or provide a 2-D array with a single row if you intend to specify the same RGB or RGBA value for all points.\n",
            "*c* argument looks like a single numeric RGB or RGBA sequence, which should be avoided as value-mapping will have precedence in case its length matches with *x* & *y*.  Please use the *color* keyword-argument or provide a 2-D array with a single row if you intend to specify the same RGB or RGBA value for all points.\n",
            "*c* argument looks like a single numeric RGB or RGBA sequence, which should be avoided as value-mapping will have precedence in case its length matches with *x* & *y*.  Please use the *color* keyword-argument or provide a 2-D array with a single row if you intend to specify the same RGB or RGBA value for all points.\n",
            "*c* argument looks like a single numeric RGB or RGBA sequence, which should be avoided as value-mapping will have precedence in case its length matches with *x* & *y*.  Please use the *color* keyword-argument or provide a 2-D array with a single row if you intend to specify the same RGB or RGBA value for all points.\n",
            "*c* argument looks like a single numeric RGB or RGBA sequence, which should be avoided as value-mapping will have precedence in case its length matches with *x* & *y*.  Please use the *color* keyword-argument or provide a 2-D array with a single row if you intend to specify the same RGB or RGBA value for all points.\n",
            "*c* argument looks like a single numeric RGB or RGBA sequence, which should be avoided as value-mapping will have precedence in case its length matches with *x* & *y*.  Please use the *color* keyword-argument or provide a 2-D array with a single row if you intend to specify the same RGB or RGBA value for all points.\n",
            "*c* argument looks like a single numeric RGB or RGBA sequence, which should be avoided as value-mapping will have precedence in case its length matches with *x* & *y*.  Please use the *color* keyword-argument or provide a 2-D array with a single row if you intend to specify the same RGB or RGBA value for all points.\n",
            "*c* argument looks like a single numeric RGB or RGBA sequence, which should be avoided as value-mapping will have precedence in case its length matches with *x* & *y*.  Please use the *color* keyword-argument or provide a 2-D array with a single row if you intend to specify the same RGB or RGBA value for all points.\n",
            "*c* argument looks like a single numeric RGB or RGBA sequence, which should be avoided as value-mapping will have precedence in case its length matches with *x* & *y*.  Please use the *color* keyword-argument or provide a 2-D array with a single row if you intend to specify the same RGB or RGBA value for all points.\n",
            "*c* argument looks like a single numeric RGB or RGBA sequence, which should be avoided as value-mapping will have precedence in case its length matches with *x* & *y*.  Please use the *color* keyword-argument or provide a 2-D array with a single row if you intend to specify the same RGB or RGBA value for all points.\n",
            "*c* argument looks like a single numeric RGB or RGBA sequence, which should be avoided as value-mapping will have precedence in case its length matches with *x* & *y*.  Please use the *color* keyword-argument or provide a 2-D array with a single row if you intend to specify the same RGB or RGBA value for all points.\n",
            "*c* argument looks like a single numeric RGB or RGBA sequence, which should be avoided as value-mapping will have precedence in case its length matches with *x* & *y*.  Please use the *color* keyword-argument or provide a 2-D array with a single row if you intend to specify the same RGB or RGBA value for all points.\n",
            "*c* argument looks like a single numeric RGB or RGBA sequence, which should be avoided as value-mapping will have precedence in case its length matches with *x* & *y*.  Please use the *color* keyword-argument or provide a 2-D array with a single row if you intend to specify the same RGB or RGBA value for all points.\n",
            "*c* argument looks like a single numeric RGB or RGBA sequence, which should be avoided as value-mapping will have precedence in case its length matches with *x* & *y*.  Please use the *color* keyword-argument or provide a 2-D array with a single row if you intend to specify the same RGB or RGBA value for all points.\n",
            "*c* argument looks like a single numeric RGB or RGBA sequence, which should be avoided as value-mapping will have precedence in case its length matches with *x* & *y*.  Please use the *color* keyword-argument or provide a 2-D array with a single row if you intend to specify the same RGB or RGBA value for all points.\n",
            "*c* argument looks like a single numeric RGB or RGBA sequence, which should be avoided as value-mapping will have precedence in case its length matches with *x* & *y*.  Please use the *color* keyword-argument or provide a 2-D array with a single row if you intend to specify the same RGB or RGBA value for all points.\n"
          ],
          "name": "stderr"
        },
        {
          "output_type": "display_data",
          "data": {
            "image/png": "[encoded data removed]",
            "text/plain": [
              "<Figure size 720x720 with 1 Axes>"
            ]
          },
          "metadata": {
            "tags": [],
            "needs_background": "light"
          }
        }
      ]
    },
    {
      "cell_type": "code",
      "metadata": {
        "colab": {
          "base_uri": "https://localhost:8080/"
        },
        "id": "WLL53F3TD5oS",
        "outputId": "1766f022-ef2b-490d-d407-5ba15fb97dba"
      },
      "source": [
        "r_sq = action_model.score(x,y)\r\n",
        "print('coefficient of determination:', r_sq)\r\n",
        "print('intercept:', action_model.intercept_)\r\n",
        "print('slope:', action_model.coef_)"
      ],
      "execution_count": null,
      "outputs": [
        {
          "output_type": "stream",
          "text": [
            "coefficient of determination: 0.42862427302190564\n",
            "intercept: -4241249.918195583\n",
            "slope: [2.95183401]\n"
          ],
          "name": "stdout"
        }
      ]
    }
  ]
}